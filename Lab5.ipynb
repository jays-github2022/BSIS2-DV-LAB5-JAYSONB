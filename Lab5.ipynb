{
  "nbformat": 4,
  "nbformat_minor": 0,
  "metadata": {
    "colab": {
      "provenance": [],
      "authorship_tag": "ABX9TyO619EkDEiImYsv36SxPv0p",
      "include_colab_link": true
    },
    "kernelspec": {
      "name": "python3",
      "display_name": "Python 3"
    },
    "language_info": {
      "name": "python"
    }
  },
  "cells": [
    {
      "cell_type": "markdown",
      "metadata": {
        "id": "view-in-github",
        "colab_type": "text"
      },
      "source": [
        "<a href=\"https://colab.research.google.com/github/jays-github2022/BSIS2-DV-LAB5-JAYSONB/blob/main/Lab5.ipynb\" target=\"_parent\"><img src=\"https://colab.research.google.com/assets/colab-badge.svg\" alt=\"Open In Colab\"/></a>"
      ]
    },
    {
      "cell_type": "code",
      "execution_count": 1,
      "metadata": {
        "colab": {
          "base_uri": "https://localhost:8080/"
        },
        "id": "niqVBC-Bx6Aq",
        "outputId": "5742d41c-be62-4aa4-c9c4-fb654c318918"
      },
      "outputs": [
        {
          "output_type": "stream",
          "name": "stdout",
          "text": [
            "Enter the temperature outside: 45\n",
            "the temperature is bad today!\n",
            "you must stay inside!\n"
          ]
        }
      ],
      "source": [
        "\n",
        "temperature = int(input(\"Enter the temperature outside: \"))\n",
        "\n",
        "if temperature >= 0 and temperature <= 30: \n",
        "  print(\"the temperature is good today\") \n",
        "  print(\"can go outside!\") \n",
        "elif temperature < 0 or temperature > 30:\n",
        "  print(\"the temperature is bad today!\")\n",
        "  print(\"you must stay inside!\")"
      ]
    }
  ]
}